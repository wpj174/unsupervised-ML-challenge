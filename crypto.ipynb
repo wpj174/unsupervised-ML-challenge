{
 "cells": [
  {
   "cell_type": "code",
   "execution_count": 1,
   "metadata": {},
   "outputs": [],
   "source": [
    "import pandas as pd\n",
    "from path import Path\n",
    "from sklearn.preprocessing import StandardScaler, MinMaxScaler\n",
    "from sklearn.decomposition import PCA\n",
    "from sklearn.manifold import TSNE\n",
    "from sklearn.cluster import KMeans\n",
    "import matplotlib.pyplot as plt"
   ]
  },
  {
   "cell_type": "markdown",
   "metadata": {},
   "source": [
    "### Data Preparation"
   ]
  },
  {
   "cell_type": "code",
   "execution_count": 2,
   "metadata": {},
   "outputs": [],
   "source": [
    "file = Path('crypto_data.csv')"
   ]
  },
  {
   "cell_type": "code",
   "execution_count": 3,
   "metadata": {},
   "outputs": [
    {
     "data": {
      "text/html": [
       "<div>\n",
       "<style scoped>\n",
       "    .dataframe tbody tr th:only-of-type {\n",
       "        vertical-align: middle;\n",
       "    }\n",
       "\n",
       "    .dataframe tbody tr th {\n",
       "        vertical-align: top;\n",
       "    }\n",
       "\n",
       "    .dataframe thead th {\n",
       "        text-align: right;\n",
       "    }\n",
       "</style>\n",
       "<table border=\"1\" class=\"dataframe\">\n",
       "  <thead>\n",
       "    <tr style=\"text-align: right;\">\n",
       "      <th></th>\n",
       "      <th>CoinName</th>\n",
       "      <th>Algorithm</th>\n",
       "      <th>IsTrading</th>\n",
       "      <th>ProofType</th>\n",
       "      <th>TotalCoinsMined</th>\n",
       "      <th>TotalCoinSupply</th>\n",
       "    </tr>\n",
       "  </thead>\n",
       "  <tbody>\n",
       "    <tr>\n",
       "      <th>42</th>\n",
       "      <td>42 Coin</td>\n",
       "      <td>Scrypt</td>\n",
       "      <td>True</td>\n",
       "      <td>PoW/PoS</td>\n",
       "      <td>4.199995e+01</td>\n",
       "      <td>42</td>\n",
       "    </tr>\n",
       "    <tr>\n",
       "      <th>365</th>\n",
       "      <td>365Coin</td>\n",
       "      <td>X11</td>\n",
       "      <td>True</td>\n",
       "      <td>PoW/PoS</td>\n",
       "      <td>NaN</td>\n",
       "      <td>2300000000</td>\n",
       "    </tr>\n",
       "    <tr>\n",
       "      <th>404</th>\n",
       "      <td>404Coin</td>\n",
       "      <td>Scrypt</td>\n",
       "      <td>True</td>\n",
       "      <td>PoW/PoS</td>\n",
       "      <td>1.055185e+09</td>\n",
       "      <td>532000000</td>\n",
       "    </tr>\n",
       "    <tr>\n",
       "      <th>611</th>\n",
       "      <td>SixEleven</td>\n",
       "      <td>SHA-256</td>\n",
       "      <td>True</td>\n",
       "      <td>PoW</td>\n",
       "      <td>NaN</td>\n",
       "      <td>611000</td>\n",
       "    </tr>\n",
       "    <tr>\n",
       "      <th>808</th>\n",
       "      <td>808</td>\n",
       "      <td>SHA-256</td>\n",
       "      <td>True</td>\n",
       "      <td>PoW/PoS</td>\n",
       "      <td>0.000000e+00</td>\n",
       "      <td>0</td>\n",
       "    </tr>\n",
       "    <tr>\n",
       "      <th>1337</th>\n",
       "      <td>EliteCoin</td>\n",
       "      <td>X13</td>\n",
       "      <td>True</td>\n",
       "      <td>PoW/PoS</td>\n",
       "      <td>2.927942e+10</td>\n",
       "      <td>314159265359</td>\n",
       "    </tr>\n",
       "    <tr>\n",
       "      <th>2015</th>\n",
       "      <td>2015 coin</td>\n",
       "      <td>X11</td>\n",
       "      <td>True</td>\n",
       "      <td>PoW/PoS</td>\n",
       "      <td>NaN</td>\n",
       "      <td>0</td>\n",
       "    </tr>\n",
       "    <tr>\n",
       "      <th>BTC</th>\n",
       "      <td>Bitcoin</td>\n",
       "      <td>SHA-256</td>\n",
       "      <td>True</td>\n",
       "      <td>PoW</td>\n",
       "      <td>1.792718e+07</td>\n",
       "      <td>21000000</td>\n",
       "    </tr>\n",
       "    <tr>\n",
       "      <th>ETH</th>\n",
       "      <td>Ethereum</td>\n",
       "      <td>Ethash</td>\n",
       "      <td>True</td>\n",
       "      <td>PoW</td>\n",
       "      <td>1.076842e+08</td>\n",
       "      <td>0</td>\n",
       "    </tr>\n",
       "    <tr>\n",
       "      <th>LTC</th>\n",
       "      <td>Litecoin</td>\n",
       "      <td>Scrypt</td>\n",
       "      <td>True</td>\n",
       "      <td>PoW</td>\n",
       "      <td>6.303924e+07</td>\n",
       "      <td>84000000</td>\n",
       "    </tr>\n",
       "  </tbody>\n",
       "</table>\n",
       "</div>"
      ],
      "text/plain": [
       "       CoinName Algorithm  IsTrading ProofType  TotalCoinsMined  \\\n",
       "42      42 Coin    Scrypt       True   PoW/PoS     4.199995e+01   \n",
       "365     365Coin       X11       True   PoW/PoS              NaN   \n",
       "404     404Coin    Scrypt       True   PoW/PoS     1.055185e+09   \n",
       "611   SixEleven   SHA-256       True       PoW              NaN   \n",
       "808         808   SHA-256       True   PoW/PoS     0.000000e+00   \n",
       "1337  EliteCoin       X13       True   PoW/PoS     2.927942e+10   \n",
       "2015  2015 coin       X11       True   PoW/PoS              NaN   \n",
       "BTC     Bitcoin   SHA-256       True       PoW     1.792718e+07   \n",
       "ETH    Ethereum    Ethash       True       PoW     1.076842e+08   \n",
       "LTC    Litecoin    Scrypt       True       PoW     6.303924e+07   \n",
       "\n",
       "     TotalCoinSupply  \n",
       "42                42  \n",
       "365       2300000000  \n",
       "404        532000000  \n",
       "611           611000  \n",
       "808                0  \n",
       "1337    314159265359  \n",
       "2015               0  \n",
       "BTC         21000000  \n",
       "ETH                0  \n",
       "LTC         84000000  "
      ]
     },
     "execution_count": 3,
     "metadata": {},
     "output_type": "execute_result"
    }
   ],
   "source": [
    "df = pd.read_csv(file, index_col=0)\n",
    "df.head(10)"
   ]
  },
  {
   "cell_type": "code",
   "execution_count": 6,
   "metadata": {},
   "outputs": [
    {
     "name": "stdout",
     "output_type": "stream",
     "text": [
      "['Scrypt', 'X11', 'Scrypt', 'SHA-256', 'SHA-256', 'X13', 'X11', 'SHA-256', 'Ethash', 'Scrypt', 'X11', 'CryptoNight-V7', 'Ethash', 'Equihash', 'SHA-512', 'Multiple', 'SHA-256', 'X11', 'X11', 'SHA-256', 'Scrypt', 'Multiple', 'X13', 'X11', 'X15', 'NIST5', 'Scrypt', 'X11', 'X11', 'SHA-256', 'X13', 'Scrypt', 'X13', 'Scrypt', 'Scrypt', 'X13', 'Scrypt', 'Scrypt', 'Scrypt', 'Scrypt', 'SHA-256', 'SHA-256', 'Scrypt', 'Scrypt', 'Multiple', 'Scrypt', 'SHA-256', 'Scrypt', 'Scrypt', 'Scrypt', 'Quark', 'Groestl', 'Scrypt', 'X11', 'Scrypt', 'Scrypt', 'Scrypt', 'Scrypt', 'Scrypt', 'Scrypt', 'Scrypt', 'Scrypt', 'Scrypt', 'Scrypt', 'Multiple', 'Scrypt', 'SHA-256', 'Scrypt', 'Scrypt', 'X11', 'Scrypt', 'Scrypt', 'X11', 'X11', 'Scrypt', 'SHA-256', 'Groestl', 'Multiple', 'X11', 'Scrypt', 'SHA-256', 'Scrypt', 'Scrypt', 'Scrypt', 'Scrypt', 'Scrypt', 'PoS', 'Scrypt', 'Scrypt', 'Scrypt', 'X11', 'SHA-256', 'NIST5', 'SHA-256', 'Scrypt', 'Scrypt', 'X11', 'Scrypt', 'NeoScrypt', 'Scrypt', 'Scrypt', 'Scrypt', 'Scrypt', 'X11', 'Scrypt', 'X11', 'X15', 'Scrypt', 'Multiple', 'Multiple', 'X11', 'NIST5', 'Scrypt', 'X11', 'SHA-256', 'X11', 'Scrypt', 'X13', 'Scrypt', 'X13', 'Scrypt', 'Scrypt', 'Scrypt', 'NIST5', 'Scrypt', 'Scrypt', 'X11', 'X11', 'Scrypt', 'SHA3', 'Scrypt', 'HybridScryptHash256', 'X11', 'Scrypt', 'SHA-256', 'Scrypt', 'Scrypt', 'SHA-256', 'Scrypt', 'Scrypt', 'X13', 'Scrypt', 'X15', 'SHA-256', 'Scrypt', 'Scrypt', 'SHA-256', 'Scrypt', 'X13', 'NeoScrypt', 'Scrypt', 'Scrypt', 'X13', 'Scrypt', 'Scrypt', 'Scrypt', 'Scrypt', 'Scrypt', 'Scrypt-n', 'Scrypt', 'Scrypt', 'Scrypt', 'Scrypt', 'Multiple', 'Scrypt', 'X15', 'Scrypt', 'X13', 'Scrypt', 'X15', 'Scrypt-n', 'Scrypt', 'Scrypt', 'X13', 'X11', 'X11', 'SHA-256', 'Scrypt', 'SHA-256', 'Multiple', 'SHA-256', 'PHI1612', 'X11', 'SHA-256', 'Scrypt', 'SHA-256', 'SHA-256', 'SHA-256', 'X11', 'Scrypt', 'Scrypt', 'X13', 'X11', 'Scrypt', 'X11', 'Scrypt', 'Lyra2REv2', 'Scrypt', 'X11', 'Scrypt', 'X11', 'Scrypt', 'Multiple', 'SHA-256', 'X11', 'X13', 'Scrypt', 'Scrypt', 'Scrypt', 'Scrypt', 'CryptoNight', 'X13', 'CryptoNight', 'SHA-256', 'Shabal256', 'Counterparty', 'Blake', 'Scrypt', 'Scrypt', 'SHA-256', 'SHA-256', 'SHA-256', 'Scrypt', 'Scrypt', 'Groestl', 'Scrypt', 'Scrypt', 'Scrypt', 'X13', 'Scrypt', 'SHA-256', 'Scrypt', 'Scrypt', 'SHA-256', 'Scrypt', 'X13', 'X13', 'X11', 'Scrypt', 'Scrypt', 'X11', 'Momentum', 'CryptoNight', 'Blake', 'Stanford Folding', 'X11', 'X11', 'Multiple', 'QuBit', 'X13', 'X15', 'Scrypt', 'X11', 'Scrypt', 'Scrypt', 'Scrypt', 'Scrypt', 'XG Hash', 'X11', 'Scrypt', 'X11', 'SHA-256', 'X11', 'M7 POW', 'Scrypt', 'Multiple', 'X11', 'Scrypt', 'Scrypt', 'X11', 'Multiple', 'X11', 'Curve25519', 'SHA-256', 'Scrypt', 'Scrypt', 'Scrypt', 'Scrypt', 'Scrypt-n', 'X11', 'SHA-256', 'X11', 'X11', 'X11', 'SHA-256', 'X11', 'SHA3', 'X11', 'X11', 'X11', 'X11', 'Scrypt', 'X13', 'Scrypt', 'Lyra2RE', 'X11', 'X13', 'Scrypt', 'X11', 'X11', 'Scrypt', 'SHA-256', 'QUAIT', 'X11', 'SHA-256', 'vDPOS', 'Scrypt', 'X11', 'Scrypt', 'X11', 'SHA-256', 'NIST5', 'X15', 'SHA-256', 'X13', 'Scrypt', 'SHA-256', 'X11', 'Scrypt', 'SHA-256', 'Scrypt', 'Scrypt', 'Ethash', 'X11', 'X13', 'Blake2b', 'Lyra2RE', 'SHA-256', 'X13', 'Scrypt', 'X15', 'X11', 'SHA-256', 'BLAKE256', 'Scrypt', 'Scrypt', '1GB AES Pattern Search', 'SHA-256', 'X11', 'Scrypt', 'CryptoNight', 'SHA-256', 'Quark', 'SHA-256', 'Scrypt', 'NIST5', 'Blake', 'Scrypt', 'Scrypt', 'SHA-256', 'Scrypt', 'X11', 'Scrypt', 'X15', 'Scrypt-n', 'X11', 'Scrypt', 'Scrypt', 'Dagger', 'Scrypt', 'SHA-256', 'CryptoNight-Lite', 'X11GOST', 'X11', 'Scrypt', 'X11', 'SHA-256', 'X11', 'X13', 'Scrypt', 'Scrypt', 'SHA-256', 'Scrypt', 'PoS', 'X11', 'Scrypt', 'ScryptOG', 'Scrypt', 'X11', 'X11', 'Dagger', 'PoS', 'SHA-256D', 'Scrypt', 'Scrypt', 'X11', 'Scrypt', 'SHA-256', 'X11', 'Scrypt', 'X11', 'X11', 'Scrypt', 'PoS', 'X11', 'Scrypt', 'Scrypt', 'SHA-256', 'X11', 'X11', 'Scrypt', 'Scrypt', 'SHA-256', 'SHA-256', 'NIST5', 'NIST5', 'Lyra2RE', 'SHA-256', 'X15', 'Scrypt', 'SHA-256', 'X11', 'Scrypt', 'X11', 'Scrypt', 'NIST5', 'Scrypt', 'Scrypt', 'Scrypt', 'Scrypt', 'Scrypt', 'SHA-256', 'POS 3.0', 'Scrypt', 'PoS', 'X13', 'Scrypt', 'SHA-256', 'Scrypt', 'SHA-256', 'X13', 'Scrypt', 'SHA-256D', 'Scrypt', 'Scrypt', 'X13', 'X13', 'X11', 'X11', 'SHA-256', 'Equihash', 'X11', 'SHA-256', 'X11', 'Scrypt', 'X11', 'Scrypt', 'Scrypt', 'Scrypt', 'X11', 'Quark', 'SHA-256', 'CryptoNight', 'X11', 'SHA-256', 'SHA-256', 'X11', 'Scrypt', 'Scrypt', 'Multiple', 'X13', 'Scrypt', 'Scrypt', 'Scrypt', 'Scrypt', 'X11', 'X11', 'QuBit', 'Progressive-n', 'Scrypt', 'Scrypt', 'DPoS', 'Scrypt', 'X13', 'Scrypt', 'SHA-256', 'Scrypt', 'Scrypt', 'Scrypt', 'SHA-256D', 'SHA-256', 'X11', 'PoS', 'Scrypt', 'X11', 'Scrypt', 'Scrypt', 'X11', 'Scrypt', 'PoS', 'Scrypt', 'X11', 'Scrypt', 'SHA-256', 'Quark', 'Scrypt', 'X11', 'X13', 'Scrypt', 'X11', 'X11', 'NIST5', 'Scrypt-n', 'SHA-256', 'Lyra2Z', 'Scrypt', 'SHA-256', 'SHA-256', 'SHA-256', 'PoS', 'X11', 'SHA-256D', 'Scrypt', 'Scrypt', 'Scrypt', 'X11', 'X13', 'X11', 'Quark', 'X11', 'Scrypt', 'X11', 'X14', 'PoS', 'Scrypt', 'SHA-256D', 'Ethash', 'Scrypt', 'X13', 'Scrypt', 'Scrypt', 'SHA-256', 'Scrypt', 'SHA-256', 'Equihash', 'X13', 'X11', 'Scrypt', 'Scrypt', 'DPoS', 'Scrypt', 'X11', 'PoS', 'X11', 'Scrypt', 'QuBit', 'Scrypt', 'X11', 'Scrypt', 'Equihash', 'PoS', 'Scrypt', 'PoS', 'Scrypt', 'X11', 'X11', 'SHA-256', 'Scrypt', 'CryptoNight', 'Scrypt', 'X13', 'PoS', 'X11', 'X11', 'X11', 'PoS', 'SHA-256D', 'Scrypt', 'Scrypt', 'Scrypt', 'Scrypt', 'X11', 'PoS', 'X11', 'Scrypt', 'SHA-256D', 'SHA-256', 'Scrypt', 'Scrypt', 'SHA-256D', 'X11', 'Scrypt', 'PoS', 'Scrypt', 'X13', 'Scrypt', 'Scrypt', 'Scrypt', 'DPoS', 'PoS', 'PoS', 'PoS', 'X11', 'CryptoNight', 'X11', 'X11', 'X11', 'X13', 'Scrypt', 'Scrypt', 'Scrypt', 'Scrypt', 'X11', 'PoS', 'PoS', 'Scrypt', 'Scrypt', 'Scrypt', 'Quark', 'QuBit', 'X15', 'X13', 'X13', 'PoS', 'PoS', 'SHA-256', 'SHA-256', 'X11', 'X11', 'X11', 'SHA-256D', 'X13', 'Scrypt', 'CryptoNight', 'X11', 'X11', 'Lyra2RE', 'SHA-256', 'Time Travel', 'PoS', 'PoS', 'SHA-256D', 'X13', 'Scrypt', 'Scrypt', 'Scrypt', 'Multiple', 'Scrypt', 'PoS', 'Scrypt', 'SHA-256', 'Scrypt', 'X11', 'X11', 'Argon2', 'PoS', 'Scrypt', 'X13', 'SHA-256D', 'SHA-256', 'X11', 'Scrypt', 'Scrypt', 'X11', 'Scrypt', 'Scrypt', 'Scrypt', 'PoS', 'Scrypt', 'X11', 'Scrypt', 'X11', 'CryptoNight-V7', 'Scrypt', 'Scrypt', 'Scrypt', 'SHA-256', 'SHA-256D', 'Scrypt', 'DPoS', 'X13', 'X11', 'SHA-256', 'Keccak', 'Scrypt', 'X13', 'SHA-256D', 'X11', 'Scrypt', 'X11', 'SHA-256D', 'Equihash', 'Scrypt', 'Scrypt', 'Lyra2RE', 'Blake2S', 'X13', 'Ethash', 'PoS', 'Scrypt', 'Scrypt', 'Scrypt', 'Scrypt', 'X11', 'Scrypt', 'Dagger-Hashimoto', 'X11', '536', 'Blake2S', 'X11', 'PoS', 'Scrypt', 'SHA-256', 'Scrypt', 'PoS', 'Scrypt-n', 'Scrypt', 'Scrypt', 'Scrypt', 'SHA-256', 'Scrypt', 'PoS', 'X11', 'NIST5', 'PoS', 'X11', 'Scrypt', 'Scrypt', 'Scrypt', 'Scrypt', 'Scrypt', 'SHA-256', 'X11', 'Scrypt', 'Scrypt', 'Scrypt', 'SHA-256', 'SHA-256', 'PoS', 'Blake2S', 'X13', 'SHA-256', 'Scrypt', 'X11', 'X11', 'SHA-256', 'CryptoNight', 'X15', 'PoS', 'SHA-256', 'Scrypt', 'Scrypt', 'Scrypt', 'Scrypt', 'Scrypt', 'POS 3.0', 'Scrypt', 'CryptoNight-V7', '536', 'Argon2d', 'Blake2b', 'Cloverhash', 'CryptoNight', 'NIST5', 'X11', 'NIST5', 'Skein', 'Scrypt', 'X13', 'Scrypt', 'X11', 'X11', 'SHA-256', 'X11', 'X11', 'Scrypt', 'CryptoNight', 'X13', 'Time Travel', 'Scrypt', 'Keccak', 'SkunkHash v2 Raptor', 'X11', 'PoS', 'Skein', 'SHA-256', 'Scrypt', 'X11', 'Scrypt', 'Scrypt', 'VeChainThor Authority', 'Scrypt', 'PoS', 'Scrypt', 'Scrypt', 'Scrypt', 'Scrypt', 'Scrypt', 'Scrypt', 'Scrypt', 'Blake2S', 'Scrypt', 'CryptoNight', 'SHA-512', 'Ouroboros', 'X11', 'Equihash', 'Scrypt', 'NeoScrypt', 'X11', 'Scrypt', 'NeoScrypt', 'NIST5', 'Lyra2REv2', 'Equihash', 'Scrypt', 'SHA-256', 'Scrypt', 'NIST5', 'PHI1612', 'Dagger', 'Scrypt', 'Quark', 'Scrypt', 'POS 2.0', 'Scrypt', 'SkunkHash', 'X11', 'Quark', 'SHA-256', 'X13', 'Scrypt', 'X11', 'NeoScrypt', 'Scrypt', 'Scrypt', 'CryptoNight', 'Ethash', 'Scrypt', 'Scrypt', 'NeoScrypt', 'Quark', 'SHA-256', 'Quark', 'Scrypt', 'X11', 'DPoS', 'NIST5', 'X13', 'Equihash', 'Multiple', 'Scrypt', 'NeoScrypt', 'Scrypt', 'Scrypt', 'CryptoNight', 'Scrypt', 'DPoS', 'SHA-256', 'Quark', 'CryptoNight', 'Ethash', 'NIST5', 'Scrypt', 'SHA-256', 'Quark', 'X11', 'SHA-256', 'CryptoNight-V7', 'Scrypt', 'Scrypt', 'Lyra2REv2', 'Scrypt', 'X11', 'X11', 'SHA-256', 'BLAKE256', 'X11', 'Scrypt', 'Scrypt', 'Scrypt', 'Scrypt', 'Lyra2REv2', 'NeoScrypt', 'NeoScrypt', 'Quark', 'NeoScrypt', 'X11', 'Scrypt', 'Scrypt', 'Scrypt', 'X13', 'X11', 'X11', 'SHA-256', 'Scrypt', 'Scrypt', 'X11', 'SHA-256', 'C11', 'X13', 'NeoScrypt', 'Scrypt', 'SHA-256', 'DPoS', 'CryptoNight', 'Scrypt', 'POS 3.0', 'SHA-256', 'Ethash', 'Scrypt', 'Scrypt', 'Scrypt', 'CryptoNight', 'X11', 'SkunkHash', 'Scrypt', 'SHA-256', 'X11', 'CryptoNight', 'Scrypt', 'Scrypt', 'X11', 'X11', 'Equihash', 'Skein', 'Groestl', 'Equihash', 'Scrypt', 'SHA-256', 'Dagger', 'Lyra2REv2', 'NIST5', 'X13', 'Proof-of-BibleHash', 'SHA-256 + Hive', 'Scrypt', 'Scrypt', 'Scrypt', 'Scrypt', 'Skein', 'X11', 'NeoScrypt', 'Equihash', 'Skein', 'X11', 'C11', 'Proof-of-Authority', 'X11', 'Scrypt', 'XEVAN', 'Scrypt', 'VBFT', 'Ethash', 'X11', 'YescryptR16', 'CryptoNight', 'NeoScrypt', 'Scrypt', 'Curve25519', 'Ethash', 'SHA-256', 'IMesh', 'PHI1612', 'Ethash', 'Quark', 'X16S', 'Scrypt', 'NIST5', 'PHI1612', 'Equihash', 'DPoS', 'CryptoNight', 'Scrypt', 'Scrypt', 'X11', 'Equihash', 'Equihash', 'Scrypt', 'PHI1612', 'Lyra2Z', 'Equihash', 'Green Protocol', 'PoS', 'Scrypt', 'NeoScrypt', 'Quark', 'Scrypt', 'Semux BFT consensus', 'Scrypt', 'Scrypt', 'X11', 'Quark', 'PoS', 'CryptoNight', 'Scrypt', 'NeoScrypt', 'X16R', 'CryptoNight', 'Scrypt', 'NIST5', 'Lyra2RE', 'XEVAN', 'Tribus', 'Scrypt', 'Scrypt', 'Lyra2Z', 'CryptoNight', 'Scrypt', 'Scrypt', 'NeoScrypt', 'CryptoNight', 'X11', 'SHA-256D', 'SHA-256', 'CryptoNight Heavy', 'CryptoNight', 'Scrypt', 'Scrypt', 'Scrypt', 'Equihash', 'X11', 'CryptoNight', 'Scrypt', 'Jump Consistent Hash', 'SHA-256D', 'CryptoNight', 'Scrypt', 'Wild Keccak', 'X11', 'Scrypt', 'X15', 'Scrypt', 'Quark', 'Scrypt', 'SHA-512', 'SHA-256', 'SHA-256', 'SHA-256D', 'DPoS', 'X16R', 'HMQ1725', 'X11', 'Scrypt', 'X16R', 'Quark', 'Quark', 'Scrypt', 'Zhash', 'Lyra2REv2', 'Quark', 'Scrypt', 'XEVAN', 'CryptoNight', 'Scrypt', 'Scrypt', 'Scrypt', 'X11', 'CryptoNight-V7', 'Cryptonight-GPU', 'Scrypt', 'XEVAN', 'CryptoNight Heavy', 'CryptoNight', 'X11', 'X11', 'X11', 'Scrypt', 'DPoS', 'PoS', 'Lyra2REv2', 'CryptoNight Heavy', 'Scrypt', 'SHA-256', 'Scrypt', 'Keccak', 'X11', 'CryptoNight', 'X11', 'Tribus', 'Quark', 'Scrypt', 'NeoScrypt', 'Scrypt', 'SHA-512', 'X16R', 'ECC 256K1', 'Scrypt', 'Scrypt', 'Scrypt', 'NeoScrypt', 'Scrypt', 'Scrypt', 'Quark', 'Lyra2REv2', 'CryptoNight', 'Equihash', 'XEVAN', 'Quark', 'CryptoNight Heavy X', 'HMQ1725', 'Lyra2Z', 'Equihash', 'Ethash', 'SHA-512', 'Rainforest', 'Scrypt', 'SHA-256', 'Quark', 'PHI1612', 'CryptoNight-V7', 'XEVAN', 'Ethash', 'Keccak', 'X11', 'CryptoNight', 'Quark', 'M00N', 'Equihash', 'Lyra2Z', 'SkunkHash', 'Quark', 'Argon2', 'Blake', 'Blake', 'Blake', 'Blake', 'CryptoNight', 'SHA-256', 'Equihash', 'Exosis', 'Scrypt', 'CryptoNight', 'Scrypt', 'Equihash', 'Quark', 'Equihash', 'Equihash', 'CryptoNight-lite', 'SHA-256', 'Quark', 'Scrypt', 'Lyra2REv2', 'QuarkTX', 'Blake2b', 'Leased POS', 'QuBit', 'X11', 'Scrypt', 'Equihash1927', 'XEVAN', 'SHA-256D', 'X11', 'SHA-256', 'SHA-256', 'Quark', 'SHA-256', 'X13', 'SHA-256', 'X11', 'X11', 'DPoS', 'X11', 'Ethash', 'X11', 'Scrypt', 'X11', 'Scrypt', 'X11', 'NeoScrypt', 'QuBit', 'Scrypt', 'X11', 'Blake', 'Scrypt', 'SHA-256', 'Scrypt', 'X11', 'CryptoNight', 'X15', 'Scrypt', 'T-Inside', 'Scrypt', 'Skein', 'SHA-256', 'SHA-256', 'X11', 'SHA-256', 'Scrypt', 'X11', 'CryptoNight', 'Scrypt', 'Multiple', 'SHA-256', 'Scrypt', 'Scrypt', 'Groestl', 'X11', 'Scrypt', 'PoS', 'Scrypt', 'Scrypt', 'X11', 'SHA-256', 'DPoS', 'Scrypt', 'Scrypt', 'Scrypt', 'NeoScrypt', 'Scrypt', 'SHA3-256', 'Multiple', 'X13', 'SHA-256', 'Equihash+Scrypt', 'Scrypt', 'Scrypt', 'Quark', 'Lyra2Z', 'CryptoNight', 'PHI2', 'DPoS', 'Ethash', 'Ethash', 'DPoS', 'SHA-256', 'DPoS', 'CryptoNight', 'Equihash', 'Avesta hash', 'X11', 'DPoS', 'DPoS', 'Ethash', 'DPoS', 'CryptoNight', 'SHA-256', 'Lyra2Z', 'DPoS', 'X11', 'Leased POS', 'PoS', 'Slatechain', 'Scrypt', 'TRC10', 'NeoScrypt', 'Equihash', 'PoS', 'SHA-256', 'Scrypt', 'X13', 'Scrypt', 'Scrypt', 'Ethash', 'SHA-256', 'CryptoNight', 'Equihash', 'Scrypt', 'Scrypt', 'Scrypt', 'SHA-256', 'PoS']\n"
     ]
    }
   ],
   "source": [
    "# List all algorithms in use\n",
    "\n",
    "print(df['Algorithm'].tolist())"
   ]
  },
  {
   "cell_type": "code",
   "execution_count": 10,
   "metadata": {},
   "outputs": [
    {
     "data": {
      "text/plain": [
       "True     1144\n",
       "False     108\n",
       "Name: IsTrading, dtype: int64"
      ]
     },
     "execution_count": 10,
     "metadata": {},
     "output_type": "execute_result"
    }
   ],
   "source": [
    "# print the counts of stocks being currently traded vs. not being currently traded \n",
    "\n",
    "df['IsTrading'].value_counts()"
   ]
  },
  {
   "cell_type": "code",
   "execution_count": 22,
   "metadata": {},
   "outputs": [
    {
     "data": {
      "text/plain": [
       "True    1144\n",
       "Name: IsTrading, dtype: int64"
      ]
     },
     "execution_count": 22,
     "metadata": {},
     "output_type": "execute_result"
    }
   ],
   "source": [
    "# Select only cryptocurrencies that are being traded\n",
    "\n",
    "df_trading = df.drop(df.loc[df['IsTrading'] == False].index)\n",
    "df_trading['IsTrading'].value_counts()"
   ]
  },
  {
   "cell_type": "code",
   "execution_count": 23,
   "metadata": {},
   "outputs": [
    {
     "data": {
      "text/html": [
       "<div>\n",
       "<style scoped>\n",
       "    .dataframe tbody tr th:only-of-type {\n",
       "        vertical-align: middle;\n",
       "    }\n",
       "\n",
       "    .dataframe tbody tr th {\n",
       "        vertical-align: top;\n",
       "    }\n",
       "\n",
       "    .dataframe thead th {\n",
       "        text-align: right;\n",
       "    }\n",
       "</style>\n",
       "<table border=\"1\" class=\"dataframe\">\n",
       "  <thead>\n",
       "    <tr style=\"text-align: right;\">\n",
       "      <th></th>\n",
       "      <th>CoinName</th>\n",
       "      <th>Algorithm</th>\n",
       "      <th>ProofType</th>\n",
       "      <th>TotalCoinsMined</th>\n",
       "      <th>TotalCoinSupply</th>\n",
       "    </tr>\n",
       "  </thead>\n",
       "  <tbody>\n",
       "    <tr>\n",
       "      <th>42</th>\n",
       "      <td>42 Coin</td>\n",
       "      <td>Scrypt</td>\n",
       "      <td>PoW/PoS</td>\n",
       "      <td>4.199995e+01</td>\n",
       "      <td>42</td>\n",
       "    </tr>\n",
       "    <tr>\n",
       "      <th>365</th>\n",
       "      <td>365Coin</td>\n",
       "      <td>X11</td>\n",
       "      <td>PoW/PoS</td>\n",
       "      <td>NaN</td>\n",
       "      <td>2300000000</td>\n",
       "    </tr>\n",
       "    <tr>\n",
       "      <th>404</th>\n",
       "      <td>404Coin</td>\n",
       "      <td>Scrypt</td>\n",
       "      <td>PoW/PoS</td>\n",
       "      <td>1.055185e+09</td>\n",
       "      <td>532000000</td>\n",
       "    </tr>\n",
       "    <tr>\n",
       "      <th>611</th>\n",
       "      <td>SixEleven</td>\n",
       "      <td>SHA-256</td>\n",
       "      <td>PoW</td>\n",
       "      <td>NaN</td>\n",
       "      <td>611000</td>\n",
       "    </tr>\n",
       "    <tr>\n",
       "      <th>808</th>\n",
       "      <td>808</td>\n",
       "      <td>SHA-256</td>\n",
       "      <td>PoW/PoS</td>\n",
       "      <td>0.000000e+00</td>\n",
       "      <td>0</td>\n",
       "    </tr>\n",
       "  </tbody>\n",
       "</table>\n",
       "</div>"
      ],
      "text/plain": [
       "      CoinName Algorithm ProofType  TotalCoinsMined TotalCoinSupply\n",
       "42     42 Coin    Scrypt   PoW/PoS     4.199995e+01              42\n",
       "365    365Coin       X11   PoW/PoS              NaN      2300000000\n",
       "404    404Coin    Scrypt   PoW/PoS     1.055185e+09       532000000\n",
       "611  SixEleven   SHA-256       PoW              NaN          611000\n",
       "808        808   SHA-256   PoW/PoS     0.000000e+00               0"
      ]
     },
     "execution_count": 23,
     "metadata": {},
     "output_type": "execute_result"
    }
   ],
   "source": [
    "# Delete the IsTrading column; it is no longer necessary\n",
    "\n",
    "df_trading2 = df_trading.drop('IsTrading', 1)\n",
    "df_trading2.head()"
   ]
  },
  {
   "cell_type": "code",
   "execution_count": 24,
   "metadata": {},
   "outputs": [
    {
     "data": {
      "text/plain": [
       "(685, 5)"
      ]
     },
     "execution_count": 24,
     "metadata": {},
     "output_type": "execute_result"
    }
   ],
   "source": [
    "# Delete all rows with null values\n",
    "\n",
    "df_noNulls = df_trading2.dropna()\n",
    "df_noNulls.shape"
   ]
  },
  {
   "cell_type": "code",
   "execution_count": 30,
   "metadata": {},
   "outputs": [
    {
     "data": {
      "text/plain": [
       "FIII   -5.917978e+09\n",
       "LBTC    0.000000e+00\n",
       "RIPO    0.000000e+00\n",
       "BASH    0.000000e+00\n",
       "CSH     0.000000e+00\n",
       "            ...     \n",
       "QWC     9.955311e+10\n",
       "NYC     1.430067e+11\n",
       "GCN     1.630551e+11\n",
       "BCN     1.840668e+11\n",
       "BTT     9.899887e+11\n",
       "Name: TotalCoinsMined, Length: 685, dtype: float64"
      ]
     },
     "execution_count": 30,
     "metadata": {},
     "output_type": "execute_result"
    }
   ],
   "source": [
    "# Sort values in TotalCoinsMined to identify negative or zero values\n",
    "\n",
    "df_noNulls.TotalCoinsMined.sort_values()"
   ]
  },
  {
   "cell_type": "code",
   "execution_count": 31,
   "metadata": {},
   "outputs": [
    {
     "name": "stderr",
     "output_type": "stream",
     "text": [
      "<ipython-input-31-44d7f725dfa4>:2: UserWarning: Boolean Series key will be reindexed to match DataFrame index.\n",
      "  df_mined = df_noNulls[df['TotalCoinsMined'] > 0]\n"
     ]
    },
    {
     "data": {
      "text/plain": [
       "532"
      ]
     },
     "execution_count": 31,
     "metadata": {},
     "output_type": "execute_result"
    }
   ],
   "source": [
    "# Select only rows with positive TotalCoinsMined values\n",
    "df_mined = df_noNulls[df['TotalCoinsMined'] > 0]\n",
    "len(df_mined)"
   ]
  },
  {
   "cell_type": "code",
   "execution_count": 32,
   "metadata": {},
   "outputs": [
    {
     "data": {
      "text/html": [
       "<div>\n",
       "<style scoped>\n",
       "    .dataframe tbody tr th:only-of-type {\n",
       "        vertical-align: middle;\n",
       "    }\n",
       "\n",
       "    .dataframe tbody tr th {\n",
       "        vertical-align: top;\n",
       "    }\n",
       "\n",
       "    .dataframe thead th {\n",
       "        text-align: right;\n",
       "    }\n",
       "</style>\n",
       "<table border=\"1\" class=\"dataframe\">\n",
       "  <thead>\n",
       "    <tr style=\"text-align: right;\">\n",
       "      <th></th>\n",
       "      <th>Algorithm</th>\n",
       "      <th>ProofType</th>\n",
       "      <th>TotalCoinsMined</th>\n",
       "      <th>TotalCoinSupply</th>\n",
       "    </tr>\n",
       "  </thead>\n",
       "  <tbody>\n",
       "    <tr>\n",
       "      <th>42</th>\n",
       "      <td>Scrypt</td>\n",
       "      <td>PoW/PoS</td>\n",
       "      <td>4.199995e+01</td>\n",
       "      <td>42</td>\n",
       "    </tr>\n",
       "    <tr>\n",
       "      <th>404</th>\n",
       "      <td>Scrypt</td>\n",
       "      <td>PoW/PoS</td>\n",
       "      <td>1.055185e+09</td>\n",
       "      <td>532000000</td>\n",
       "    </tr>\n",
       "    <tr>\n",
       "      <th>1337</th>\n",
       "      <td>X13</td>\n",
       "      <td>PoW/PoS</td>\n",
       "      <td>2.927942e+10</td>\n",
       "      <td>314159265359</td>\n",
       "    </tr>\n",
       "    <tr>\n",
       "      <th>BTC</th>\n",
       "      <td>SHA-256</td>\n",
       "      <td>PoW</td>\n",
       "      <td>1.792718e+07</td>\n",
       "      <td>21000000</td>\n",
       "    </tr>\n",
       "    <tr>\n",
       "      <th>ETH</th>\n",
       "      <td>Ethash</td>\n",
       "      <td>PoW</td>\n",
       "      <td>1.076842e+08</td>\n",
       "      <td>0</td>\n",
       "    </tr>\n",
       "  </tbody>\n",
       "</table>\n",
       "</div>"
      ],
      "text/plain": [
       "     Algorithm ProofType  TotalCoinsMined TotalCoinSupply\n",
       "42      Scrypt   PoW/PoS     4.199995e+01              42\n",
       "404     Scrypt   PoW/PoS     1.055185e+09       532000000\n",
       "1337       X13   PoW/PoS     2.927942e+10    314159265359\n",
       "BTC    SHA-256       PoW     1.792718e+07        21000000\n",
       "ETH     Ethash       PoW     1.076842e+08               0"
      ]
     },
     "execution_count": 32,
     "metadata": {},
     "output_type": "execute_result"
    }
   ],
   "source": [
    "# Delete the CoinName column from the original dataframe\n",
    "\n",
    "df_noName = df_mined.drop('CoinName', 1)\n",
    "df_noName.head()"
   ]
  },
  {
   "cell_type": "code",
   "execution_count": 34,
   "metadata": {},
   "outputs": [
    {
     "name": "stdout",
     "output_type": "stream",
     "text": [
      "(532, 98)\n"
     ]
    },
    {
     "data": {
      "text/html": [
       "<div>\n",
       "<style scoped>\n",
       "    .dataframe tbody tr th:only-of-type {\n",
       "        vertical-align: middle;\n",
       "    }\n",
       "\n",
       "    .dataframe tbody tr th {\n",
       "        vertical-align: top;\n",
       "    }\n",
       "\n",
       "    .dataframe thead th {\n",
       "        text-align: right;\n",
       "    }\n",
       "</style>\n",
       "<table border=\"1\" class=\"dataframe\">\n",
       "  <thead>\n",
       "    <tr style=\"text-align: right;\">\n",
       "      <th></th>\n",
       "      <th>TotalCoinsMined</th>\n",
       "      <th>TotalCoinSupply</th>\n",
       "      <th>Algorithm_1GB AES Pattern Search</th>\n",
       "      <th>Algorithm_536</th>\n",
       "      <th>Algorithm_Argon2d</th>\n",
       "      <th>Algorithm_BLAKE256</th>\n",
       "      <th>Algorithm_Blake</th>\n",
       "      <th>Algorithm_Blake2S</th>\n",
       "      <th>Algorithm_Blake2b</th>\n",
       "      <th>Algorithm_C11</th>\n",
       "      <th>...</th>\n",
       "      <th>ProofType_PoW/PoS</th>\n",
       "      <th>ProofType_PoW/PoS</th>\n",
       "      <th>ProofType_PoW/PoW</th>\n",
       "      <th>ProofType_PoW/nPoS</th>\n",
       "      <th>ProofType_Pos</th>\n",
       "      <th>ProofType_Proof of Authority</th>\n",
       "      <th>ProofType_Proof of Trust</th>\n",
       "      <th>ProofType_TPoS</th>\n",
       "      <th>ProofType_Zero-Knowledge Proof</th>\n",
       "      <th>ProofType_dPoW/PoW</th>\n",
       "    </tr>\n",
       "  </thead>\n",
       "  <tbody>\n",
       "    <tr>\n",
       "      <th>42</th>\n",
       "      <td>4.199995e+01</td>\n",
       "      <td>42</td>\n",
       "      <td>0</td>\n",
       "      <td>0</td>\n",
       "      <td>0</td>\n",
       "      <td>0</td>\n",
       "      <td>0</td>\n",
       "      <td>0</td>\n",
       "      <td>0</td>\n",
       "      <td>0</td>\n",
       "      <td>...</td>\n",
       "      <td>1</td>\n",
       "      <td>0</td>\n",
       "      <td>0</td>\n",
       "      <td>0</td>\n",
       "      <td>0</td>\n",
       "      <td>0</td>\n",
       "      <td>0</td>\n",
       "      <td>0</td>\n",
       "      <td>0</td>\n",
       "      <td>0</td>\n",
       "    </tr>\n",
       "    <tr>\n",
       "      <th>404</th>\n",
       "      <td>1.055185e+09</td>\n",
       "      <td>532000000</td>\n",
       "      <td>0</td>\n",
       "      <td>0</td>\n",
       "      <td>0</td>\n",
       "      <td>0</td>\n",
       "      <td>0</td>\n",
       "      <td>0</td>\n",
       "      <td>0</td>\n",
       "      <td>0</td>\n",
       "      <td>...</td>\n",
       "      <td>1</td>\n",
       "      <td>0</td>\n",
       "      <td>0</td>\n",
       "      <td>0</td>\n",
       "      <td>0</td>\n",
       "      <td>0</td>\n",
       "      <td>0</td>\n",
       "      <td>0</td>\n",
       "      <td>0</td>\n",
       "      <td>0</td>\n",
       "    </tr>\n",
       "    <tr>\n",
       "      <th>1337</th>\n",
       "      <td>2.927942e+10</td>\n",
       "      <td>314159265359</td>\n",
       "      <td>0</td>\n",
       "      <td>0</td>\n",
       "      <td>0</td>\n",
       "      <td>0</td>\n",
       "      <td>0</td>\n",
       "      <td>0</td>\n",
       "      <td>0</td>\n",
       "      <td>0</td>\n",
       "      <td>...</td>\n",
       "      <td>1</td>\n",
       "      <td>0</td>\n",
       "      <td>0</td>\n",
       "      <td>0</td>\n",
       "      <td>0</td>\n",
       "      <td>0</td>\n",
       "      <td>0</td>\n",
       "      <td>0</td>\n",
       "      <td>0</td>\n",
       "      <td>0</td>\n",
       "    </tr>\n",
       "    <tr>\n",
       "      <th>BTC</th>\n",
       "      <td>1.792718e+07</td>\n",
       "      <td>21000000</td>\n",
       "      <td>0</td>\n",
       "      <td>0</td>\n",
       "      <td>0</td>\n",
       "      <td>0</td>\n",
       "      <td>0</td>\n",
       "      <td>0</td>\n",
       "      <td>0</td>\n",
       "      <td>0</td>\n",
       "      <td>...</td>\n",
       "      <td>0</td>\n",
       "      <td>0</td>\n",
       "      <td>0</td>\n",
       "      <td>0</td>\n",
       "      <td>0</td>\n",
       "      <td>0</td>\n",
       "      <td>0</td>\n",
       "      <td>0</td>\n",
       "      <td>0</td>\n",
       "      <td>0</td>\n",
       "    </tr>\n",
       "    <tr>\n",
       "      <th>ETH</th>\n",
       "      <td>1.076842e+08</td>\n",
       "      <td>0</td>\n",
       "      <td>0</td>\n",
       "      <td>0</td>\n",
       "      <td>0</td>\n",
       "      <td>0</td>\n",
       "      <td>0</td>\n",
       "      <td>0</td>\n",
       "      <td>0</td>\n",
       "      <td>0</td>\n",
       "      <td>...</td>\n",
       "      <td>0</td>\n",
       "      <td>0</td>\n",
       "      <td>0</td>\n",
       "      <td>0</td>\n",
       "      <td>0</td>\n",
       "      <td>0</td>\n",
       "      <td>0</td>\n",
       "      <td>0</td>\n",
       "      <td>0</td>\n",
       "      <td>0</td>\n",
       "    </tr>\n",
       "  </tbody>\n",
       "</table>\n",
       "<p>5 rows × 98 columns</p>\n",
       "</div>"
      ],
      "text/plain": [
       "      TotalCoinsMined TotalCoinSupply  Algorithm_1GB AES Pattern Search  \\\n",
       "42       4.199995e+01              42                                 0   \n",
       "404      1.055185e+09       532000000                                 0   \n",
       "1337     2.927942e+10    314159265359                                 0   \n",
       "BTC      1.792718e+07        21000000                                 0   \n",
       "ETH      1.076842e+08               0                                 0   \n",
       "\n",
       "      Algorithm_536  Algorithm_Argon2d  Algorithm_BLAKE256  Algorithm_Blake  \\\n",
       "42                0                  0                   0                0   \n",
       "404               0                  0                   0                0   \n",
       "1337              0                  0                   0                0   \n",
       "BTC               0                  0                   0                0   \n",
       "ETH               0                  0                   0                0   \n",
       "\n",
       "      Algorithm_Blake2S  Algorithm_Blake2b  Algorithm_C11  ...  \\\n",
       "42                    0                  0              0  ...   \n",
       "404                   0                  0              0  ...   \n",
       "1337                  0                  0              0  ...   \n",
       "BTC                   0                  0              0  ...   \n",
       "ETH                   0                  0              0  ...   \n",
       "\n",
       "      ProofType_PoW/PoS  ProofType_PoW/PoS   ProofType_PoW/PoW  \\\n",
       "42                    1                   0                  0   \n",
       "404                   1                   0                  0   \n",
       "1337                  1                   0                  0   \n",
       "BTC                   0                   0                  0   \n",
       "ETH                   0                   0                  0   \n",
       "\n",
       "      ProofType_PoW/nPoS  ProofType_Pos  ProofType_Proof of Authority  \\\n",
       "42                     0              0                             0   \n",
       "404                    0              0                             0   \n",
       "1337                   0              0                             0   \n",
       "BTC                    0              0                             0   \n",
       "ETH                    0              0                             0   \n",
       "\n",
       "      ProofType_Proof of Trust  ProofType_TPoS  \\\n",
       "42                           0               0   \n",
       "404                          0               0   \n",
       "1337                         0               0   \n",
       "BTC                          0               0   \n",
       "ETH                          0               0   \n",
       "\n",
       "      ProofType_Zero-Knowledge Proof  ProofType_dPoW/PoW  \n",
       "42                                 0                   0  \n",
       "404                                0                   0  \n",
       "1337                               0                   0  \n",
       "BTC                                0                   0  \n",
       "ETH                                0                   0  \n",
       "\n",
       "[5 rows x 98 columns]"
      ]
     },
     "execution_count": 34,
     "metadata": {},
     "output_type": "execute_result"
    }
   ],
   "source": [
    "# Create dummy variables for columns with string values\n",
    "\n",
    "X = pd.get_dummies(data=df_noName, columns=['Algorithm','ProofType'])\n",
    "print(X.shape)\n",
    "X.head()"
   ]
  },
  {
   "cell_type": "code",
   "execution_count": 35,
   "metadata": {},
   "outputs": [],
   "source": [
    "# Standardize the data\n",
    "\n",
    "scaler = StandardScaler()\n",
    "X_scaled = scaler.fit_transform(X)"
   ]
  },
  {
   "cell_type": "code",
   "execution_count": 36,
   "metadata": {},
   "outputs": [
    {
     "data": {
      "text/plain": [
       "array([-0.11710817, -0.1528703 , -0.0433963 , -0.0433963 , -0.0433963 ,\n",
       "       -0.06142951, -0.07530656, -0.0433963 , -0.06142951, -0.06142951,\n",
       "       -0.0433963 , -0.0433963 , -0.19245009, -0.06142951, -0.09740465,\n",
       "       -0.0433963 , -0.11547005, -0.07530656, -0.0433963 , -0.0433963 ,\n",
       "       -0.15191091, -0.0433963 , -0.13118084, -0.0433963 , -0.0433963 ,\n",
       "       -0.08703883, -0.0433963 , -0.0433963 , -0.0433963 , -0.0433963 ,\n",
       "       -0.06142951, -0.0433963 , -0.08703883, -0.08703883, -0.08703883,\n",
       "       -0.0433963 , -0.13118084, -0.13840913, -0.13840913, -0.0433963 ,\n",
       "       -0.06142951, -0.0433963 , -0.07530656, -0.18168574, -0.0433963 ,\n",
       "       -0.0433963 , -0.0433963 , -0.07530656, -0.15826614, -0.31491833,\n",
       "       -0.0433963 , -0.08703883, -0.07530656, -0.06142951,  1.38675049,\n",
       "       -0.0433963 , -0.0433963 , -0.06142951, -0.0433963 , -0.0433963 ,\n",
       "       -0.0433963 , -0.0433963 , -0.0433963 , -0.0433963 , -0.0433963 ,\n",
       "       -0.0433963 , -0.39879994, -0.0433963 , -0.18168574, -0.0433963 ,\n",
       "       -0.08703883, -0.08703883, -0.10680283, -0.0433963 , -0.13118084,\n",
       "       -0.0433963 , -0.0433963 , -0.0433963 , -0.0433963 , -0.07530656,\n",
       "       -0.43911856, -0.0433963 , -0.06142951, -0.0433963 , -0.0433963 ,\n",
       "       -0.89632016, -0.0433963 , -0.0433963 ,  1.42222617, -0.0433963 ,\n",
       "       -0.0433963 , -0.0433963 , -0.0433963 , -0.0433963 , -0.0433963 ,\n",
       "       -0.0433963 , -0.0433963 , -0.0433963 ])"
      ]
     },
     "execution_count": 36,
     "metadata": {},
     "output_type": "execute_result"
    }
   ],
   "source": [
    "# print the scaled data\n",
    "\n",
    "X_scaled[0]"
   ]
  },
  {
   "cell_type": "code",
   "execution_count": 37,
   "metadata": {},
   "outputs": [
    {
     "data": {
      "text/plain": [
       "(532, 98)"
      ]
     },
     "execution_count": 37,
     "metadata": {},
     "output_type": "execute_result"
    }
   ],
   "source": [
    "# Identify the numbers of rows and columns in the scaled data\n",
    "\n",
    "X_scaled.shape"
   ]
  },
  {
   "cell_type": "markdown",
   "metadata": {},
   "source": [
    "### Reduce dataset dimensions with PCA"
   ]
  },
  {
   "cell_type": "code",
   "execution_count": 38,
   "metadata": {},
   "outputs": [
    {
     "data": {
      "text/plain": [
       "(532, 74)"
      ]
     },
     "execution_count": 38,
     "metadata": {},
     "output_type": "execute_result"
    }
   ],
   "source": [
    "# Reduce dimensions with PCA\n",
    "\n",
    "pca = PCA(n_components=0.90)\n",
    "X_pca = pca.fit_transform(X_scaled)\n",
    "X_pca.shape"
   ]
  },
  {
   "cell_type": "code",
   "execution_count": 39,
   "metadata": {},
   "outputs": [
    {
     "data": {
      "text/plain": [
       "88.47283457566158"
      ]
     },
     "execution_count": 39,
     "metadata": {},
     "output_type": "execute_result"
    }
   ],
   "source": [
    "# The sum of the explained variance of the principal components\n",
    "\n",
    "pca.explained_variance_.sum()"
   ]
  },
  {
   "cell_type": "code",
   "execution_count": 40,
   "metadata": {},
   "outputs": [
    {
     "data": {
      "text/plain": [
       "(532, 2)"
      ]
     },
     "execution_count": 40,
     "metadata": {},
     "output_type": "execute_result"
    }
   ],
   "source": [
    "# Reduce dimensions with t-SNE\n",
    "\n",
    "tsne = TSNE(perplexity=50)\n",
    "X_tsne = tsne.fit_transform(X_pca)\n",
    "X_tsne.shape"
   ]
  },
  {
   "cell_type": "code",
   "execution_count": 41,
   "metadata": {},
   "outputs": [
    {
     "data": {
      "image/png": "[encoded data removed]",
      "text/plain": [
       "<Figure size 432x288 with 1 Axes>"
      ]
     },
     "metadata": {
      "needs_background": "light"
     },
     "output_type": "display_data"
    }
   ],
   "source": [
    "# Plot t-SNE output\n",
    "\n",
    "plt.scatter(X_tsne[:,0], X_tsne[:,1])\n",
    "plt.show()"
   ]
  },
  {
   "cell_type": "code",
   "execution_count": 20,
   "metadata": {},
   "outputs": [],
   "source": [
    "# Identify clusters with k-means\n"
   ]
  },
  {
   "cell_type": "code",
   "execution_count": 21,
   "metadata": {},
   "outputs": [
    {
     "data": {
      "image/png": "[encoded data removed]",
      "text/plain": [
       "<Figure size 432x288 with 1 Axes>"
      ]
     },
     "metadata": {
      "needs_background": "light"
     },
     "output_type": "display_data"
    }
   ],
   "source": [
    "# Create an elbow plot\n"
   ]
  },
  {
   "cell_type": "code",
   "execution_count": null,
   "metadata": {},
   "outputs": [],
   "source": []
  }
 ],
 "metadata": {
  "kernelspec": {
   "display_name": "Python 3",
   "language": "python",
   "name": "python3"
  },
  "language_info": {
   "codemirror_mode": {
    "name": "ipython",
    "version": 3
   },
   "file_extension": ".py",
   "mimetype": "text/x-python",
   "name": "python",
   "nbconvert_exporter": "python",
   "pygments_lexer": "ipython3",
   "version": "3.8.8"
  }
 },
 "nbformat": 4,
 "nbformat_minor": 4
}
